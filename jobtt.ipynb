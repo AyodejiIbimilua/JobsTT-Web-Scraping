{
 "cells": [
  {
   "cell_type": "code",
   "execution_count": 1,
   "id": "93cf25c2",
   "metadata": {},
   "outputs": [],
   "source": [
    "#import libraries\n",
    "import time\n",
    "import re\n",
    "import math\n",
    "import pandas as pd\n",
    "import numpy as np\n",
    "import requests\n",
    "from bs4 import BeautifulSoup"
   ]
  },
  {
   "cell_type": "code",
   "execution_count": 2,
   "id": "bac5c68a",
   "metadata": {},
   "outputs": [],
   "source": [
    "def get_soup(url):\n",
    "    \"\"\"\n",
    "    parses pages and returns soup\n",
    "    \"\"\"\n",
    "    r = requests.get(url,\n",
    "                     headers={\"User-Agent\": \"Mozilla/5.0 (X11; CrOS x86_64 12871.102.0) AppleWebKit/537.36 (KHTML, like Gecko) Chrome/81.0.4044.141 Safari/537.36\"})\n",
    "    soup = BeautifulSoup(r.text, 'html.parser')\n",
    "    \n",
    "    return soup"
   ]
  },
  {
   "cell_type": "code",
   "execution_count": 3,
   "id": "4cd7301a",
   "metadata": {},
   "outputs": [],
   "source": [
    "#loads page\n",
    "soup = get_soup(\"https://jobstt.com/search-results-jobs/?searchId=1659019988.2823&action=search&page=1&listings_per_page=100&view=list\")\n",
    "\n",
    "#get the number of search results\n",
    "nub_pages = soup.select(\"div.topjobs h3\")[0].text.split(\": \")[1].strip()\n",
    "nub_pages = int(nub_pages)\n",
    "\n",
    "#calculates the number of pages\n",
    "if 100 > nub_pages:\n",
    "    pg_range = [1]\n",
    "else:\n",
    "    pg_range = math.ceil(nub_pages / 100)\n",
    "    pg_range = np.arange(1, pg_range + 1)"
   ]
  },
  {
   "cell_type": "code",
   "execution_count": 4,
   "id": "225891a7",
   "metadata": {},
   "outputs": [],
   "source": [
    "#gets individual job links\n",
    "\n",
    "job_urls = []\n",
    "for pg in pg_range:\n",
    "    \n",
    "    url = \"https://jobstt.com/search-results-jobs/?searchId=1659019988.2823&action=search&page=\" + str(pg) + \"&listings_per_page=100&view=list\"\n",
    "    soup = get_soup(url)\n",
    "    \n",
    "    menu = soup.select(\"section#home > div.listone\")\n",
    "    urls = [mn.select(\"h1 > a\")[0][\"href\"] for mn in menu]    \n",
    "    for i in urls:\n",
    "        job_urls.append(i)"
   ]
  },
  {
   "cell_type": "code",
   "execution_count": 5,
   "id": "84b17db7",
   "metadata": {},
   "outputs": [],
   "source": [
    "data_list = []"
   ]
  },
  {
   "cell_type": "code",
   "execution_count": 6,
   "id": "534421e5",
   "metadata": {},
   "outputs": [],
   "source": [
    "#extracts data for each job\n",
    "for job_url in job_urls:\n",
    "    soup = get_soup(job_url)\n",
    "    \n",
    "    try:\n",
    "        job_title = soup.select(\"div#listingsResults > h1\")[0].text.strip()\n",
    "    except:\n",
    "        job_title = \"\"\n",
    "    try:\n",
    "        city = soup.select(\"div#listingsResults > div.citycost > span.city\")[0].text.strip()\n",
    "    except:\n",
    "        city = \"\"\n",
    "\n",
    "    try:\n",
    "        isfulltime = soup.select(\"div#listingsResults > div.citycost > span.fulltimejob\")[0].text.strip()\n",
    "    except:\n",
    "        isfulltime = \"\"\n",
    "\n",
    "    posted_on = \"\"\n",
    "    expired_on = \"\"\n",
    "\n",
    "    dates = soup.select(\"div#listingsResults > div.citycost > span.date\")\n",
    "\n",
    "    for dt in dates:\n",
    "        if \"Posted On \" in dt.text:\n",
    "            po = dt.text.split(\"Posted On \")[1]\n",
    "            posted_on += po\n",
    "        elif \"Expire On \" in dt.text:\n",
    "            eo = dt.text.split(\"Expire On \")[1]\n",
    "            expired_on += eo\n",
    "    try:        \n",
    "        employer = soup.select(\"div#listingsResults > div.citycost > span.hr\")[0].text    \n",
    "    except:\n",
    "        employer = \"\"\n",
    "\n",
    "    try:\n",
    "        description = soup.select(\"div#listingsResults div.cvtips.job_description\")[0].text.replace(\"\\n\", \"\").replace(\"\\xa0\", \"\")\n",
    "        description = description.split(\"Description\", 1)[1].strip()\n",
    "    except:\n",
    "        description = \"\"\n",
    "\n",
    "    try:    \n",
    "        company_name = soup.select(\"div.codetails > h1\")[0].text.strip()\n",
    "    except:\n",
    "        company_name = \"\"\n",
    "\n",
    "    try:\n",
    "        company_profile = soup.select(\"div.codetails > a\")[1][\"href\"]\n",
    "    except:\n",
    "        company_profile = \"\"    \n",
    "        \n",
    "    dt = {\n",
    "        \"Job Title\": job_title,\n",
    "        \"Job Url\": job_url,\n",
    "        \"City\": city,\n",
    "        \"Job Type\": isfulltime,\n",
    "        \"Posted On\": posted_on,\n",
    "        \"Expired On\": expired_on,\n",
    "        \"Employer\": employer,\n",
    "        \"Description\": description,\n",
    "        \"Company Name\": company_name,\n",
    "        \"Company Profile Link\": company_profile\n",
    "    }\n",
    "    \n",
    "    data_list.append(dt)"
   ]
  },
  {
   "cell_type": "code",
   "execution_count": 7,
   "id": "955672b0",
   "metadata": {},
   "outputs": [],
   "source": [
    "#converts extracted data to dataframe\n",
    "df = pd.DataFrame(data_list)"
   ]
  },
  {
   "cell_type": "code",
   "execution_count": 8,
   "id": "9bf007db",
   "metadata": {},
   "outputs": [],
   "source": [
    "df.to_excel(\"jobstt.xlsx\", index=False)"
   ]
  }
 ],
 "metadata": {
  "kernelspec": {
   "display_name": "Python 3",
   "language": "python",
   "name": "python3"
  },
  "language_info": {
   "codemirror_mode": {
    "name": "ipython",
    "version": 3
   },
   "file_extension": ".py",
   "mimetype": "text/x-python",
   "name": "python",
   "nbconvert_exporter": "python",
   "pygments_lexer": "ipython3",
   "version": "3.9.5"
  }
 },
 "nbformat": 4,
 "nbformat_minor": 5
}
